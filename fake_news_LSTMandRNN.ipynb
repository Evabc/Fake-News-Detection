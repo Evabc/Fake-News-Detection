{
 "cells": [
  {
   "cell_type": "code",
   "execution_count": 1,
   "metadata": {},
   "outputs": [],
   "source": [
    "import numpy as np\n",
    "import pandas as pd"
   ]
  },
  {
   "cell_type": "code",
   "execution_count": 2,
   "metadata": {},
   "outputs": [
    {
     "data": {
      "text/html": [
       "<div>\n",
       "<style scoped>\n",
       "    .dataframe tbody tr th:only-of-type {\n",
       "        vertical-align: middle;\n",
       "    }\n",
       "\n",
       "    .dataframe tbody tr th {\n",
       "        vertical-align: top;\n",
       "    }\n",
       "\n",
       "    .dataframe thead th {\n",
       "        text-align: right;\n",
       "    }\n",
       "</style>\n",
       "<table border=\"1\" class=\"dataframe\">\n",
       "  <thead>\n",
       "    <tr style=\"text-align: right;\">\n",
       "      <th></th>\n",
       "      <th>text</th>\n",
       "      <th>label</th>\n",
       "    </tr>\n",
       "  </thead>\n",
       "  <tbody>\n",
       "    <tr>\n",
       "      <th>0</th>\n",
       "      <td>Get the latest from TODAY Sign up for our news...</td>\n",
       "      <td>1</td>\n",
       "    </tr>\n",
       "    <tr>\n",
       "      <th>1</th>\n",
       "      <td>2d  Conan On The Funeral Trump Will Be Invited...</td>\n",
       "      <td>1</td>\n",
       "    </tr>\n",
       "    <tr>\n",
       "      <th>2</th>\n",
       "      <td>It’s safe to say that Instagram Stories has fa...</td>\n",
       "      <td>0</td>\n",
       "    </tr>\n",
       "    <tr>\n",
       "      <th>3</th>\n",
       "      <td>Much like a certain Amazon goddess with a lass...</td>\n",
       "      <td>0</td>\n",
       "    </tr>\n",
       "    <tr>\n",
       "      <th>4</th>\n",
       "      <td>At a time when the perfect outfit is just one ...</td>\n",
       "      <td>0</td>\n",
       "    </tr>\n",
       "    <tr>\n",
       "      <th>5</th>\n",
       "      <td>When Reese Witherspoon was 17, she had already...</td>\n",
       "      <td>0</td>\n",
       "    </tr>\n",
       "    <tr>\n",
       "      <th>6</th>\n",
       "      <td>It’s official! WAGS Miami stars Ashley Nicole ...</td>\n",
       "      <td>0</td>\n",
       "    </tr>\n",
       "    <tr>\n",
       "      <th>7</th>\n",
       "      <td>On March 24, 2018, one month and ten days afte...</td>\n",
       "      <td>1</td>\n",
       "    </tr>\n",
       "    <tr>\n",
       "      <th>8</th>\n",
       "      <td>A mosque in Georgia is under fire after they s...</td>\n",
       "      <td>1</td>\n",
       "    </tr>\n",
       "    <tr>\n",
       "      <th>9</th>\n",
       "      <td>Scott Disick is sticking up for Khloe Kardashi...</td>\n",
       "      <td>1</td>\n",
       "    </tr>\n",
       "  </tbody>\n",
       "</table>\n",
       "</div>"
      ],
      "text/plain": [
       "                                                text label\n",
       "0  Get the latest from TODAY Sign up for our news...     1\n",
       "1  2d  Conan On The Funeral Trump Will Be Invited...     1\n",
       "2  It’s safe to say that Instagram Stories has fa...     0\n",
       "3  Much like a certain Amazon goddess with a lass...     0\n",
       "4  At a time when the perfect outfit is just one ...     0\n",
       "5  When Reese Witherspoon was 17, she had already...     0\n",
       "6  It’s official! WAGS Miami stars Ashley Nicole ...     0\n",
       "7  On March 24, 2018, one month and ten days afte...     1\n",
       "8  A mosque in Georgia is under fire after they s...     1\n",
       "9  Scott Disick is sticking up for Khloe Kardashi...     1"
      ]
     },
     "execution_count": 2,
     "metadata": {},
     "output_type": "execute_result"
    }
   ],
   "source": [
    "#read train csv and split\n",
    "delimiter=\"\\t\"\n",
    "train_df = pd.read_csv('train.csv',delimiter=\"\\t\").astype(str)\n",
    "\n",
    "train_df.head(10)"
   ]
  },
  {
   "cell_type": "code",
   "execution_count": 3,
   "metadata": {},
   "outputs": [
    {
     "data": {
      "text/html": [
       "<div>\n",
       "<style scoped>\n",
       "    .dataframe tbody tr th:only-of-type {\n",
       "        vertical-align: middle;\n",
       "    }\n",
       "\n",
       "    .dataframe tbody tr th {\n",
       "        vertical-align: top;\n",
       "    }\n",
       "\n",
       "    .dataframe thead th {\n",
       "        text-align: right;\n",
       "    }\n",
       "</style>\n",
       "<table border=\"1\" class=\"dataframe\">\n",
       "  <thead>\n",
       "    <tr style=\"text-align: right;\">\n",
       "      <th></th>\n",
       "      <th>text</th>\n",
       "      <th>label</th>\n",
       "    </tr>\n",
       "  </thead>\n",
       "  <tbody>\n",
       "    <tr>\n",
       "      <th>1615</th>\n",
       "      <td>content</td>\n",
       "      <td>label</td>\n",
       "    </tr>\n",
       "  </tbody>\n",
       "</table>\n",
       "</div>"
      ],
      "text/plain": [
       "         text  label\n",
       "1615  content  label"
      ]
     },
     "execution_count": 3,
     "metadata": {},
     "output_type": "execute_result"
    }
   ],
   "source": [
    "#find str in label\n",
    "fliter1 = (train_df['label']!= '0')\n",
    "fliter2 = (train_df['label']!= '1')\n",
    "train_df[fliter1 & fliter2]"
   ]
  },
  {
   "cell_type": "code",
   "execution_count": 4,
   "metadata": {},
   "outputs": [],
   "source": [
    "train_df= train_df.drop(index=1615)"
   ]
  },
  {
   "cell_type": "code",
   "execution_count": 5,
   "metadata": {
    "scrolled": true
   },
   "outputs": [
    {
     "data": {
      "text/html": [
       "<div>\n",
       "<style scoped>\n",
       "    .dataframe tbody tr th:only-of-type {\n",
       "        vertical-align: middle;\n",
       "    }\n",
       "\n",
       "    .dataframe tbody tr th {\n",
       "        vertical-align: top;\n",
       "    }\n",
       "\n",
       "    .dataframe thead th {\n",
       "        text-align: right;\n",
       "    }\n",
       "</style>\n",
       "<table border=\"1\" class=\"dataframe\">\n",
       "  <thead>\n",
       "    <tr style=\"text-align: right;\">\n",
       "      <th></th>\n",
       "      <th>id</th>\n",
       "      <th>text</th>\n",
       "    </tr>\n",
       "  </thead>\n",
       "  <tbody>\n",
       "    <tr>\n",
       "      <th>0</th>\n",
       "      <td>2</td>\n",
       "      <td>The 2017 Teen Choice Awards ceremony was held ...</td>\n",
       "    </tr>\n",
       "    <tr>\n",
       "      <th>1</th>\n",
       "      <td>3</td>\n",
       "      <td>The concert, part of “The Joshua Tree Tour,” w...</td>\n",
       "    </tr>\n",
       "    <tr>\n",
       "      <th>2</th>\n",
       "      <td>4</td>\n",
       "      <td>Selena Gomez refuses to talk to her mother abo...</td>\n",
       "    </tr>\n",
       "    <tr>\n",
       "      <th>3</th>\n",
       "      <td>5</td>\n",
       "      <td>This is worse than a lump of coal in your stoc...</td>\n",
       "    </tr>\n",
       "    <tr>\n",
       "      <th>4</th>\n",
       "      <td>6</td>\n",
       "      <td>Luann De Lesseps is going to rehab after her a...</td>\n",
       "    </tr>\n",
       "    <tr>\n",
       "      <th>5</th>\n",
       "      <td>7</td>\n",
       "      <td>Diamond's Weinstein meets a grisly end  Saved ...</td>\n",
       "    </tr>\n",
       "    <tr>\n",
       "      <th>6</th>\n",
       "      <td>8</td>\n",
       "      <td>After 13 years, Ashlee Simpson-Ross is once ag...</td>\n",
       "    </tr>\n",
       "    <tr>\n",
       "      <th>7</th>\n",
       "      <td>9</td>\n",
       "      <td>In honor of their 70th wedding anniversary, th...</td>\n",
       "    </tr>\n",
       "    <tr>\n",
       "      <th>8</th>\n",
       "      <td>10</td>\n",
       "      <td>Demi Lovato has made no secret that she's a mi...</td>\n",
       "    </tr>\n",
       "    <tr>\n",
       "      <th>9</th>\n",
       "      <td>11</td>\n",
       "      <td>Twitter Caught Leaking Donald Trump's Private ...</td>\n",
       "    </tr>\n",
       "  </tbody>\n",
       "</table>\n",
       "</div>"
      ],
      "text/plain": [
       "   id                                               text\n",
       "0   2  The 2017 Teen Choice Awards ceremony was held ...\n",
       "1   3  The concert, part of “The Joshua Tree Tour,” w...\n",
       "2   4  Selena Gomez refuses to talk to her mother abo...\n",
       "3   5  This is worse than a lump of coal in your stoc...\n",
       "4   6  Luann De Lesseps is going to rehab after her a...\n",
       "5   7  Diamond's Weinstein meets a grisly end  Saved ...\n",
       "6   8  After 13 years, Ashlee Simpson-Ross is once ag...\n",
       "7   9  In honor of their 70th wedding anniversary, th...\n",
       "8  10  Demi Lovato has made no secret that she's a mi...\n",
       "9  11  Twitter Caught Leaking Donald Trump's Private ..."
      ]
     },
     "execution_count": 5,
     "metadata": {},
     "output_type": "execute_result"
    }
   ],
   "source": [
    "delimiter=\"\\t\"\n",
    "test_text_df = pd.read_csv('test.csv',delimiter=\"\\t\").astype(str)\n",
    "\n",
    "test_text_df.head(10)"
   ]
  },
  {
   "cell_type": "code",
   "execution_count": 6,
   "metadata": {},
   "outputs": [
    {
     "data": {
      "text/html": [
       "<div>\n",
       "<style scoped>\n",
       "    .dataframe tbody tr th:only-of-type {\n",
       "        vertical-align: middle;\n",
       "    }\n",
       "\n",
       "    .dataframe tbody tr th {\n",
       "        vertical-align: top;\n",
       "    }\n",
       "\n",
       "    .dataframe thead th {\n",
       "        text-align: right;\n",
       "    }\n",
       "</style>\n",
       "<table border=\"1\" class=\"dataframe\">\n",
       "  <thead>\n",
       "    <tr style=\"text-align: right;\">\n",
       "      <th></th>\n",
       "      <th>id</th>\n",
       "      <th>label</th>\n",
       "    </tr>\n",
       "  </thead>\n",
       "  <tbody>\n",
       "    <tr>\n",
       "      <th>0</th>\n",
       "      <td>2</td>\n",
       "      <td>1</td>\n",
       "    </tr>\n",
       "    <tr>\n",
       "      <th>1</th>\n",
       "      <td>3</td>\n",
       "      <td>1</td>\n",
       "    </tr>\n",
       "    <tr>\n",
       "      <th>2</th>\n",
       "      <td>4</td>\n",
       "      <td>0</td>\n",
       "    </tr>\n",
       "    <tr>\n",
       "      <th>3</th>\n",
       "      <td>5</td>\n",
       "      <td>0</td>\n",
       "    </tr>\n",
       "    <tr>\n",
       "      <th>4</th>\n",
       "      <td>6</td>\n",
       "      <td>0</td>\n",
       "    </tr>\n",
       "  </tbody>\n",
       "</table>\n",
       "</div>"
      ],
      "text/plain": [
       "   id  label\n",
       "0   2      1\n",
       "1   3      1\n",
       "2   4      0\n",
       "3   5      0\n",
       "4   6      0"
      ]
     },
     "execution_count": 6,
     "metadata": {},
     "output_type": "execute_result"
    }
   ],
   "source": [
    "test_label_df=pd.read_csv('sample_submission.csv')\n",
    "test_label_df.head()"
   ]
  },
  {
   "cell_type": "code",
   "execution_count": 7,
   "metadata": {},
   "outputs": [],
   "source": [
    "test_label_df.id = test_label_df.id.astype('O')\n",
    "test_label_df.label = test_label_df.label.astype('O')"
   ]
  },
  {
   "cell_type": "code",
   "execution_count": 8,
   "metadata": {},
   "outputs": [],
   "source": [
    "test_df = pd.merge(test_text_df, test_label_df ,how='left', on='id')\n",
    "test_df.label = test_label_df.label"
   ]
  },
  {
   "cell_type": "code",
   "execution_count": 9,
   "metadata": {},
   "outputs": [
    {
     "data": {
      "text/html": [
       "<div>\n",
       "<style scoped>\n",
       "    .dataframe tbody tr th:only-of-type {\n",
       "        vertical-align: middle;\n",
       "    }\n",
       "\n",
       "    .dataframe tbody tr th {\n",
       "        vertical-align: top;\n",
       "    }\n",
       "\n",
       "    .dataframe thead th {\n",
       "        text-align: right;\n",
       "    }\n",
       "</style>\n",
       "<table border=\"1\" class=\"dataframe\">\n",
       "  <thead>\n",
       "    <tr style=\"text-align: right;\">\n",
       "      <th></th>\n",
       "      <th>id</th>\n",
       "      <th>text</th>\n",
       "      <th>label</th>\n",
       "    </tr>\n",
       "  </thead>\n",
       "  <tbody>\n",
       "    <tr>\n",
       "      <th>0</th>\n",
       "      <td>2</td>\n",
       "      <td>The 2017 Teen Choice Awards ceremony was held ...</td>\n",
       "      <td>1</td>\n",
       "    </tr>\n",
       "    <tr>\n",
       "      <th>1</th>\n",
       "      <td>3</td>\n",
       "      <td>The concert, part of “The Joshua Tree Tour,” w...</td>\n",
       "      <td>1</td>\n",
       "    </tr>\n",
       "    <tr>\n",
       "      <th>2</th>\n",
       "      <td>4</td>\n",
       "      <td>Selena Gomez refuses to talk to her mother abo...</td>\n",
       "      <td>0</td>\n",
       "    </tr>\n",
       "    <tr>\n",
       "      <th>3</th>\n",
       "      <td>5</td>\n",
       "      <td>This is worse than a lump of coal in your stoc...</td>\n",
       "      <td>0</td>\n",
       "    </tr>\n",
       "    <tr>\n",
       "      <th>4</th>\n",
       "      <td>6</td>\n",
       "      <td>Luann De Lesseps is going to rehab after her a...</td>\n",
       "      <td>0</td>\n",
       "    </tr>\n",
       "  </tbody>\n",
       "</table>\n",
       "</div>"
      ],
      "text/plain": [
       "  id                                               text label\n",
       "0  2  The 2017 Teen Choice Awards ceremony was held ...     1\n",
       "1  3  The concert, part of “The Joshua Tree Tour,” w...     1\n",
       "2  4  Selena Gomez refuses to talk to her mother abo...     0\n",
       "3  5  This is worse than a lump of coal in your stoc...     0\n",
       "4  6  Luann De Lesseps is going to rehab after her a...     0"
      ]
     },
     "execution_count": 9,
     "metadata": {},
     "output_type": "execute_result"
    }
   ],
   "source": [
    "test_df.head(5)"
   ]
  },
  {
   "cell_type": "code",
   "execution_count": 10,
   "metadata": {},
   "outputs": [],
   "source": [
    "from gensim.models.word2vec import Word2Vec\n",
    "from gensim.parsing.preprocessing import remove_stopwords"
   ]
  },
  {
   "cell_type": "code",
   "execution_count": 11,
   "metadata": {},
   "outputs": [],
   "source": [
    "#remove stopwords in gensim\n",
    "train_df['text'] = train_df['text'].apply(lambda x: remove_stopwords(\" \".join(x)))\n",
    "test_df['text'] = test_df['text'].apply(lambda x: remove_stopwords(\" \".join(x)))"
   ]
  },
  {
   "cell_type": "code",
   "execution_count": 15,
   "metadata": {},
   "outputs": [],
   "source": [
    "model = Word2Vec(train_df['text'], size=100, window=5, min_count=5)"
   ]
  },
  {
   "cell_type": "code",
   "execution_count": 16,
   "metadata": {},
   "outputs": [],
   "source": [
    "#把訓練好的 Word2Vec 模型存起來\n",
    "model.save('word2vec.model')"
   ]
  },
  {
   "cell_type": "code",
   "execution_count": 12,
   "metadata": {},
   "outputs": [],
   "source": [
    "w2v_model = Word2Vec.load('word2vec.model')\n",
    "#生成一個Shape為 (總詞數 + 1, 詞向量維度) 的零矩陣作為權重矩陣\n",
    "embedding_matrix = np.zeros((len(w2v_model.wv.vocab.items()) + 1, w2v_model.vector_size))\n",
    "#生成一張空的table（待會就能利用table直接把詞給轉成index）\n",
    "word2idx = {}\n",
    "#從詞向量模型中，取出所有的詞與詞向量\n",
    "vocab_list = [(word, w2v_model.wv[word]) for word, _ in w2v_model.wv.vocab.items()]\n",
    "for i, vocab in enumerate(vocab_list):\n",
    "    word, vec = vocab\n",
    "    #從第 1 列開始，把詞向量塞進權重矩陣裡（一列一列往下堆疊）\n",
    "    embedding_matrix[i + 1] = vec\n",
    "    #詞向量塞進第 n 列時，就在 table 裡加入 { 詞 → n } 的關係\n",
    "    word2idx[word] = i + 1"
   ]
  },
  {
   "cell_type": "code",
   "execution_count": 13,
   "metadata": {},
   "outputs": [
    {
     "name": "stderr",
     "output_type": "stream",
     "text": [
      "Using TensorFlow backend.\n"
     ]
    }
   ],
   "source": [
    "from keras.preprocessing.sequence import pad_sequences\n",
    "from keras.utils import to_categorical\n",
    "from keras.models import Sequential\n",
    "from keras.layers import Embedding, GRU, Dense,Dropout"
   ]
  },
  {
   "cell_type": "code",
   "execution_count": 14,
   "metadata": {},
   "outputs": [],
   "source": [
    "#用權重矩陣生成一份Embedding layer\n",
    "embedding_layer = Embedding(input_dim=embedding_matrix.shape[0],\n",
    "                            output_dim=embedding_matrix.shape[1],\n",
    "                            weights=[embedding_matrix],\n",
    "                            trainable=False)"
   ]
  },
  {
   "cell_type": "code",
   "execution_count": 15,
   "metadata": {},
   "outputs": [],
   "source": [
    "#利用剛才建立的table，把資料中的所有詞都轉換成index\n",
    "#用try, except的方式，如果在table中找不到詞時，那就填0上去\n",
    "def text_to_index(corpus):\n",
    "    new_corpus = []\n",
    "    for doc in corpus:\n",
    "        new_doc = []\n",
    "        for word in doc:\n",
    "            try:\n",
    "                new_doc.append(word2idx[word])\n",
    "            except:\n",
    "                new_doc.append(0)\n",
    "        new_corpus.append(new_doc)\n",
    "    return np.array(new_corpus)"
   ]
  },
  {
   "cell_type": "code",
   "execution_count": 19,
   "metadata": {},
   "outputs": [
    {
     "name": "stdout",
     "output_type": "stream",
     "text": [
      "Shape: (4986, 500)\n",
      "Sample: [222 132 222 169 222 259 222 165 222 165 222 186 222 185 222 150 222 135\n",
      " 222 185 222 186 222 108 222 150 222 230 222 264 222 115 222 115 222 264\n",
      " 222 185 222 124 222 260 222 112 222 264 222  80 222 185 222 230 222 200\n",
      " 222 186 222 115 222 135 222 115 222 186 222 115 222 185 222 169 222  47\n",
      " 222 185 222 150 222  76 222 260 222  92 222 186 222 200 222 135 222 185\n",
      " 222 150 222 230 222 264 222 230 222 115 222 185 222 186 222 186 222  96\n",
      " 222 115 222 259 222 127 222 186 222  80 222  78 222 264 222 264 222 165\n",
      " 222 230 222 124 222  61 222 169 222  76 222 259 222 169 222  78 222 136\n",
      " 222 264 222 259 222 186 222 124 222  77 222 136 222 186 222 136 222 169\n",
      " 222 200 222  29 222  80 222 136 222 186 222 136 222 169 222 200 222 259\n",
      " 222 169 222 112 222 259 222 149 222  29 222 185 222 185 222  96 222 185\n",
      " 222 169 222  76 222 108 222 212 222  43 222 230 222 115 222 124 222 150\n",
      " 222 135 222 115 222 185 222  47 222 185 222 169 222 150 222 230 222 104\n",
      " 222 259 222 104 222  43 222 264 222 169 222 169 222 185 222 264 222 264\n",
      " 222 136 222 124 222 225 222 232 222 135 222 185 222 264 222 259 222  47\n",
      " 222 185 222 200 222 264 222 264 222 165 222  43 222 230 222 232 222  76\n",
      " 222 260 222  92 222 186 222 200 222 108 222 150 222 259 222  43 222 264\n",
      " 222 200 222 149 222 185 222 230 222 115 222 115 222 186 222  96 222 115\n",
      " 222 135 222 185 222 169 222 185 222  96 222 259 222 186 222  96 222 124\n",
      " 222 158 222 251 222 186 222 124 222 115 222 135 222 115 222  96 222  43\n",
      " 222 136 222 158 222 230 222 165 222 136 222 135 222 185 222 169 222 259\n",
      " 222  76 222 235 222 135 222 115 222 158 222 230 222 115 222 135 222 185\n",
      " 222 232 222 259 222 259 222 264 222 185 222 230 222 115 222  96 222  43\n",
      " 222 136 222  76 222 127 222 185 222 175 222 230 222 165 222 136 222 149\n",
      " 222  96 222 149 222 169 222 259 222 115 222 135 222 185 222 169 222  76\n",
      " 222 158 222 260 222 247 222 259 222 264 222 264 222 259 222 150 222 225\n",
      " 222 186 222 200 222 185 222 185 222  17 222 150 222 186 222 259 222 186\n",
      " 222 235 222 150 222 115 222 115 222 185 222 169 222  76]\n"
     ]
    }
   ],
   "source": [
    "#pad_sequences() 會把太長的 input 給截短，太短的 input 則填上一堆 0 來補足長度\n",
    "PADDING_LENGTH = 500\n",
    "X = text_to_index(train_df.text)\n",
    "X = pad_sequences(X, maxlen=PADDING_LENGTH)\n",
    "print(\"Shape:\", X.shape)\n",
    "print(\"Sample:\", X[0])"
   ]
  },
  {
   "cell_type": "code",
   "execution_count": 20,
   "metadata": {},
   "outputs": [
    {
     "name": "stdout",
     "output_type": "stream",
     "text": [
      "Shape: (4986, 2)\n",
      "Sample: [0. 1.]\n"
     ]
    }
   ],
   "source": [
    "Y = to_categorical(train_df.label)\n",
    "print(\"Shape:\", Y.shape)\n",
    "print(\"Sample:\", Y[0])"
   ]
  },
  {
   "cell_type": "code",
   "execution_count": 21,
   "metadata": {},
   "outputs": [],
   "source": [
    "def RNN_model():\n",
    "    RNN_model = Sequential()\n",
    "    RNN_model.add(embedding_layer)\n",
    "    RNN_model.add(Dropout(0.5))\n",
    "    RNN_model.add(GRU(16))    \n",
    "    RNN_model.add(Dense(100, activation='relu'))\n",
    "    RNN_model.add(Dense(100, activation='relu'))\n",
    "    RNN_model.add(Dropout(0.5))\n",
    "    RNN_model.add(Dense(2, activation='sigmoid'))\n",
    "    \n",
    "    RNN_model.compile(optimizer='adam',\n",
    "                  loss='categorical_crossentropy',\n",
    "                  metrics=['accuracy'])\n",
    "    return RNN_model"
   ]
  },
  {
   "cell_type": "code",
   "execution_count": 22,
   "metadata": {},
   "outputs": [
    {
     "name": "stdout",
     "output_type": "stream",
     "text": [
      "_________________________________________________________________\n",
      "Layer (type)                 Output Shape              Param #   \n",
      "=================================================================\n",
      "embedding_1 (Embedding)      (None, None, 100)         26700     \n",
      "_________________________________________________________________\n",
      "dropout_1 (Dropout)          (None, None, 100)         0         \n",
      "_________________________________________________________________\n",
      "gru_1 (GRU)                  (None, 16)                5616      \n",
      "_________________________________________________________________\n",
      "dense_1 (Dense)              (None, 100)               1700      \n",
      "_________________________________________________________________\n",
      "dense_2 (Dense)              (None, 100)               10100     \n",
      "_________________________________________________________________\n",
      "dropout_2 (Dropout)          (None, 100)               0         \n",
      "_________________________________________________________________\n",
      "dense_3 (Dense)              (None, 2)                 202       \n",
      "=================================================================\n",
      "Total params: 44,318\n",
      "Trainable params: 17,618\n",
      "Non-trainable params: 26,700\n",
      "_________________________________________________________________\n"
     ]
    }
   ],
   "source": [
    "RNNmodel = RNN_model()\n",
    "RNNmodel.summary()"
   ]
  },
  {
   "cell_type": "code",
   "execution_count": 25,
   "metadata": {},
   "outputs": [],
   "source": [
    "import matplotlib.pyplot as plt"
   ]
  },
  {
   "cell_type": "code",
   "execution_count": 28,
   "metadata": {},
   "outputs": [
    {
     "name": "stdout",
     "output_type": "stream",
     "text": [
      "Train on 3988 samples, validate on 998 samples\n",
      "Epoch 1/30\n",
      "3988/3988 [==============================] - 34s 8ms/step - loss: 0.6301 - acc: 0.6437 - val_loss: 0.6614 - val_acc: 0.6222\n",
      "Epoch 2/30\n",
      "3988/3988 [==============================] - 33s 8ms/step - loss: 0.6322 - acc: 0.6357 - val_loss: 0.6571 - val_acc: 0.6253\n",
      "Epoch 3/30\n",
      "3988/3988 [==============================] - 34s 8ms/step - loss: 0.6262 - acc: 0.6419 - val_loss: 0.6604 - val_acc: 0.6082\n",
      "Epoch 4/30\n",
      "3988/3988 [==============================] - 33s 8ms/step - loss: 0.6280 - acc: 0.6439 - val_loss: 0.6587 - val_acc: 0.6062\n",
      "Epoch 5/30\n",
      "3988/3988 [==============================] - 33s 8ms/step - loss: 0.6289 - acc: 0.6357 - val_loss: 0.6643 - val_acc: 0.6152\n",
      "Epoch 6/30\n",
      "3988/3988 [==============================] - 33s 8ms/step - loss: 0.6272 - acc: 0.6329 - val_loss: 0.6608 - val_acc: 0.6132\n",
      "Epoch 7/30\n",
      "3988/3988 [==============================] - 33s 8ms/step - loss: 0.6285 - acc: 0.6472 - val_loss: 0.6679 - val_acc: 0.6022\n",
      "Epoch 8/30\n",
      "3988/3988 [==============================] - 33s 8ms/step - loss: 0.6293 - acc: 0.6444 - val_loss: 0.6588 - val_acc: 0.6212\n",
      "Epoch 9/30\n",
      "3988/3988 [==============================] - 34s 9ms/step - loss: 0.6218 - acc: 0.6419 - val_loss: 0.6581 - val_acc: 0.6192\n",
      "Epoch 10/30\n",
      "3988/3988 [==============================] - 34s 9ms/step - loss: 0.6244 - acc: 0.6469 - val_loss: 0.6624 - val_acc: 0.6162\n",
      "Epoch 11/30\n",
      "3988/3988 [==============================] - 35s 9ms/step - loss: 0.6188 - acc: 0.6520 - val_loss: 0.6624 - val_acc: 0.6112\n",
      "Epoch 12/30\n",
      "3988/3988 [==============================] - 34s 8ms/step - loss: 0.6237 - acc: 0.6505 - val_loss: 0.6599 - val_acc: 0.6102\n",
      "Epoch 13/30\n",
      "3988/3988 [==============================] - 34s 8ms/step - loss: 0.6175 - acc: 0.6562 - val_loss: 0.6644 - val_acc: 0.6052\n",
      "Epoch 14/30\n",
      "3988/3988 [==============================] - 34s 8ms/step - loss: 0.6208 - acc: 0.6469 - val_loss: 0.6640 - val_acc: 0.6132\n",
      "Epoch 15/30\n",
      "3988/3988 [==============================] - 34s 8ms/step - loss: 0.6226 - acc: 0.6532 - val_loss: 0.6604 - val_acc: 0.6172\n",
      "Epoch 16/30\n",
      "3988/3988 [==============================] - 34s 8ms/step - loss: 0.6206 - acc: 0.6492 - val_loss: 0.6686 - val_acc: 0.6162\n",
      "Epoch 17/30\n",
      "3988/3988 [==============================] - 33s 8ms/step - loss: 0.6185 - acc: 0.6449 - val_loss: 0.6710 - val_acc: 0.6122\n",
      "Epoch 18/30\n",
      "3988/3988 [==============================] - 34s 9ms/step - loss: 0.6184 - acc: 0.6517 - val_loss: 0.6674 - val_acc: 0.6102\n",
      "Epoch 19/30\n",
      "3988/3988 [==============================] - 35s 9ms/step - loss: 0.6193 - acc: 0.6517 - val_loss: 0.6711 - val_acc: 0.6152\n",
      "Epoch 20/30\n",
      "3988/3988 [==============================] - 34s 9ms/step - loss: 0.6245 - acc: 0.6545 - val_loss: 0.6646 - val_acc: 0.6132\n",
      "Epoch 21/30\n",
      "3988/3988 [==============================] - 34s 9ms/step - loss: 0.6213 - acc: 0.6457 - val_loss: 0.6659 - val_acc: 0.6082\n",
      "Epoch 22/30\n",
      "3988/3988 [==============================] - 36s 9ms/step - loss: 0.6150 - acc: 0.6532 - val_loss: 0.6646 - val_acc: 0.6132\n",
      "Epoch 23/30\n",
      "3988/3988 [==============================] - 40s 10ms/step - loss: 0.6171 - acc: 0.6630 - val_loss: 0.6654 - val_acc: 0.6092\n",
      "Epoch 24/30\n",
      "3988/3988 [==============================] - 36s 9ms/step - loss: 0.6129 - acc: 0.6597 - val_loss: 0.6694 - val_acc: 0.6142\n",
      "Epoch 25/30\n",
      "3988/3988 [==============================] - 36s 9ms/step - loss: 0.6149 - acc: 0.6542 - val_loss: 0.6681 - val_acc: 0.5972\n",
      "Epoch 26/30\n",
      "3988/3988 [==============================] - 35s 9ms/step - loss: 0.6136 - acc: 0.6645 - val_loss: 0.6686 - val_acc: 0.6052\n",
      "Epoch 27/30\n",
      "3988/3988 [==============================] - 35s 9ms/step - loss: 0.6168 - acc: 0.6512 - val_loss: 0.6644 - val_acc: 0.6042\n",
      "Epoch 28/30\n",
      "3988/3988 [==============================] - 36s 9ms/step - loss: 0.6134 - acc: 0.6557 - val_loss: 0.6678 - val_acc: 0.6032\n",
      "Epoch 29/30\n",
      "3988/3988 [==============================] - 35s 9ms/step - loss: 0.6108 - acc: 0.6515 - val_loss: 0.6685 - val_acc: 0.6102\n",
      "Epoch 30/30\n",
      "3988/3988 [==============================] - 35s 9ms/step - loss: 0.6111 - acc: 0.6655 - val_loss: 0.6726 - val_acc: 0.6022\n"
     ]
    },
    {
     "data": {
      "image/png": "[encoded data removed]",
      "text/plain": [
       "<Figure size 432x288 with 1 Axes>"
      ]
     },
     "metadata": {
      "needs_background": "light"
     },
     "output_type": "display_data"
    },
    {
     "data": {
      "image/png": "[encoded data removed]",
      "text/plain": [
       "<Figure size 432x288 with 1 Axes>"
      ]
     },
     "metadata": {
      "needs_background": "light"
     },
     "output_type": "display_data"
    }
   ],
   "source": [
    "history = RNNmodel.fit(x=X, y=Y, validation_split=0.2, epochs=30, batch_size=32)\n",
    "\n",
    "# 繪製訓練&驗證的acc\n",
    "plt.plot(history.history['acc'])\n",
    "plt.plot(history.history['val_acc'])\n",
    "plt.title('Model accuracy')\n",
    "plt.ylabel('Accuracy')\n",
    "plt.xlabel('Epoch')\n",
    "plt.legend(['Train', 'Test'], loc='upper left')\n",
    "plt.show()\n",
    "\n",
    "# 繪製訓練&驗證的loss\n",
    "plt.plot(history.history['loss'])\n",
    "plt.plot(history.history['val_loss'])\n",
    "plt.title('Model loss')\n",
    "plt.ylabel('Loss')\n",
    "plt.xlabel('Epoch')\n",
    "plt.legend(['Train', 'Test'], loc='upper left')\n",
    "plt.show()"
   ]
  },
  {
   "cell_type": "code",
   "execution_count": 32,
   "metadata": {},
   "outputs": [],
   "source": [
    "# 將訓練好的model儲存成json及h5檔\n",
    "import json\n",
    "RNNmodel_json = RNNmodel.to_json()\n",
    "with open(\"RNN_model_trained.json\", \"w\") as json_file:\n",
    "    json.dump(RNN_model_json, json_file)\n",
    "RNNmodel.save(\"RNN_model_trained.h5\")"
   ]
  },
  {
   "cell_type": "code",
   "execution_count": 33,
   "metadata": {},
   "outputs": [],
   "source": [
    "from keras.layers.recurrent import LSTM"
   ]
  },
  {
   "cell_type": "code",
   "execution_count": 34,
   "metadata": {},
   "outputs": [],
   "source": [
    "def LSTM_model():\n",
    "    LSTM_model = Sequential()\n",
    "    LSTM_model.add(embedding_layer)\n",
    "    LSTM_model.add(Dropout(0.5))\n",
    "    LSTM_model.add(LSTM(32))    \n",
    "    LSTM_model.add(Dense(100, activation='relu'))\n",
    "    LSTM_model.add(Dense(100, activation='relu'))\n",
    "    LSTM_model.add(Dropout(0.5))\n",
    "    LSTM_model.add(Dense(2, activation='sigmoid'))\n",
    "    \n",
    "    LSTM_model.compile(optimizer='adam',\n",
    "                  loss='categorical_crossentropy',\n",
    "                  metrics=['accuracy'])\n",
    "    return LSTM_model"
   ]
  },
  {
   "cell_type": "code",
   "execution_count": 35,
   "metadata": {},
   "outputs": [
    {
     "name": "stdout",
     "output_type": "stream",
     "text": [
      "_________________________________________________________________\n",
      "Layer (type)                 Output Shape              Param #   \n",
      "=================================================================\n",
      "embedding_1 (Embedding)      (None, None, 100)         26700     \n",
      "_________________________________________________________________\n",
      "dropout_3 (Dropout)          (None, None, 100)         0         \n",
      "_________________________________________________________________\n",
      "lstm_1 (LSTM)                (None, 32)                17024     \n",
      "_________________________________________________________________\n",
      "dense_4 (Dense)              (None, 100)               3300      \n",
      "_________________________________________________________________\n",
      "dense_5 (Dense)              (None, 100)               10100     \n",
      "_________________________________________________________________\n",
      "dropout_4 (Dropout)          (None, 100)               0         \n",
      "_________________________________________________________________\n",
      "dense_6 (Dense)              (None, 2)                 202       \n",
      "=================================================================\n",
      "Total params: 57,326\n",
      "Trainable params: 30,626\n",
      "Non-trainable params: 26,700\n",
      "_________________________________________________________________\n"
     ]
    }
   ],
   "source": [
    "LSTM_model = LSTM_model()\n",
    "LSTM_model.summary()"
   ]
  },
  {
   "cell_type": "code",
   "execution_count": 36,
   "metadata": {},
   "outputs": [
    {
     "name": "stdout",
     "output_type": "stream",
     "text": [
      "Train on 3988 samples, validate on 998 samples\n",
      "Epoch 1/120\n",
      "3988/3988 [==============================] - 45s 11ms/step - loss: 0.6761 - acc: 0.5918 - val_loss: 0.6760 - val_acc: 0.5922\n",
      "Epoch 2/120\n",
      "3988/3988 [==============================] - 49s 12ms/step - loss: 0.6748 - acc: 0.5980 - val_loss: 0.6713 - val_acc: 0.5922\n",
      "Epoch 3/120\n",
      "3988/3988 [==============================] - 48s 12ms/step - loss: 0.6704 - acc: 0.5975 - val_loss: 0.6705 - val_acc: 0.5912\n",
      "Epoch 4/120\n",
      "3988/3988 [==============================] - 45s 11ms/step - loss: 0.6702 - acc: 0.5943 - val_loss: 0.6749 - val_acc: 0.5872\n",
      "Epoch 5/120\n",
      "3988/3988 [==============================] - 44s 11ms/step - loss: 0.6684 - acc: 0.5958 - val_loss: 0.6685 - val_acc: 0.5952\n",
      "Epoch 6/120\n",
      "3988/3988 [==============================] - 45s 11ms/step - loss: 0.6643 - acc: 0.5965 - val_loss: 0.6685 - val_acc: 0.5972\n",
      "Epoch 7/120\n",
      "3988/3988 [==============================] - 46s 12ms/step - loss: 0.6639 - acc: 0.6033 - val_loss: 0.6650 - val_acc: 0.5982\n",
      "Epoch 8/120\n",
      "3988/3988 [==============================] - 43s 11ms/step - loss: 0.6631 - acc: 0.6041 - val_loss: 0.6638 - val_acc: 0.6012\n",
      "Epoch 9/120\n",
      "3988/3988 [==============================] - 45s 11ms/step - loss: 0.6599 - acc: 0.6021 - val_loss: 0.6615 - val_acc: 0.6042\n",
      "Epoch 10/120\n",
      "3988/3988 [==============================] - 44s 11ms/step - loss: 0.6610 - acc: 0.6038 - val_loss: 0.6640 - val_acc: 0.6062\n",
      "Epoch 11/120\n",
      "3988/3988 [==============================] - 44s 11ms/step - loss: 0.6608 - acc: 0.6071 - val_loss: 0.6603 - val_acc: 0.6042\n",
      "Epoch 12/120\n",
      "3988/3988 [==============================] - 44s 11ms/step - loss: 0.6554 - acc: 0.6121 - val_loss: 0.6603 - val_acc: 0.6052\n",
      "Epoch 13/120\n",
      "3988/3988 [==============================] - 43s 11ms/step - loss: 0.6531 - acc: 0.6156 - val_loss: 0.6599 - val_acc: 0.6052\n",
      "Epoch 14/120\n",
      "3988/3988 [==============================] - 44s 11ms/step - loss: 0.6521 - acc: 0.6096 - val_loss: 0.6588 - val_acc: 0.6052\n",
      "Epoch 15/120\n",
      "3988/3988 [==============================] - 43s 11ms/step - loss: 0.6492 - acc: 0.6111 - val_loss: 0.6579 - val_acc: 0.5982\n",
      "Epoch 16/120\n",
      "3988/3988 [==============================] - 45s 11ms/step - loss: 0.6535 - acc: 0.6086 - val_loss: 0.6583 - val_acc: 0.6082\n",
      "Epoch 17/120\n",
      "3988/3988 [==============================] - 45s 11ms/step - loss: 0.6451 - acc: 0.6241 - val_loss: 0.6603 - val_acc: 0.5942\n",
      "Epoch 18/120\n",
      "3988/3988 [==============================] - 45s 11ms/step - loss: 0.6441 - acc: 0.6231 - val_loss: 0.6621 - val_acc: 0.6032\n",
      "Epoch 19/120\n",
      "3988/3988 [==============================] - 48s 12ms/step - loss: 0.6401 - acc: 0.6301 - val_loss: 0.6614 - val_acc: 0.6062\n",
      "Epoch 20/120\n",
      "3988/3988 [==============================] - 46s 12ms/step - loss: 0.6401 - acc: 0.6241 - val_loss: 0.6567 - val_acc: 0.6112\n",
      "Epoch 21/120\n",
      "3988/3988 [==============================] - 44s 11ms/step - loss: 0.6402 - acc: 0.6321 - val_loss: 0.6583 - val_acc: 0.6112\n",
      "Epoch 22/120\n",
      "3988/3988 [==============================] - 47s 12ms/step - loss: 0.6353 - acc: 0.6342 - val_loss: 0.6593 - val_acc: 0.6122\n",
      "Epoch 23/120\n",
      "3988/3988 [==============================] - 44s 11ms/step - loss: 0.6332 - acc: 0.6349 - val_loss: 0.6595 - val_acc: 0.6132\n",
      "Epoch 24/120\n",
      "3988/3988 [==============================] - 43s 11ms/step - loss: 0.6352 - acc: 0.6324 - val_loss: 0.6532 - val_acc: 0.6152\n",
      "Epoch 25/120\n",
      "3988/3988 [==============================] - 45s 11ms/step - loss: 0.6307 - acc: 0.6339 - val_loss: 0.6586 - val_acc: 0.5992\n",
      "Epoch 26/120\n",
      "3988/3988 [==============================] - 45s 11ms/step - loss: 0.6330 - acc: 0.6462 - val_loss: 0.6549 - val_acc: 0.6112\n",
      "Epoch 27/120\n",
      "3988/3988 [==============================] - 47s 12ms/step - loss: 0.6241 - acc: 0.6372 - val_loss: 0.6566 - val_acc: 0.6142\n",
      "Epoch 28/120\n",
      "3988/3988 [==============================] - 44s 11ms/step - loss: 0.6275 - acc: 0.6479 - val_loss: 0.6598 - val_acc: 0.6152\n",
      "Epoch 29/120\n",
      "3988/3988 [==============================] - 47s 12ms/step - loss: 0.6215 - acc: 0.6462 - val_loss: 0.6762 - val_acc: 0.6092\n",
      "Epoch 30/120\n",
      "3988/3988 [==============================] - 46s 12ms/step - loss: 0.6218 - acc: 0.6525 - val_loss: 0.6608 - val_acc: 0.6132\n",
      "Epoch 31/120\n",
      "3988/3988 [==============================] - 44s 11ms/step - loss: 0.6166 - acc: 0.6532 - val_loss: 0.6563 - val_acc: 0.6242\n",
      "Epoch 32/120\n",
      "3988/3988 [==============================] - 47s 12ms/step - loss: 0.6196 - acc: 0.6494 - val_loss: 0.6543 - val_acc: 0.6162\n",
      "Epoch 33/120\n",
      "3988/3988 [==============================] - 46s 12ms/step - loss: 0.6188 - acc: 0.6515 - val_loss: 0.6614 - val_acc: 0.6142\n",
      "Epoch 34/120\n",
      "3988/3988 [==============================] - 46s 11ms/step - loss: 0.6122 - acc: 0.6597 - val_loss: 0.6557 - val_acc: 0.6222\n",
      "Epoch 35/120\n",
      "3988/3988 [==============================] - 44s 11ms/step - loss: 0.6092 - acc: 0.6602 - val_loss: 0.6546 - val_acc: 0.6303\n",
      "Epoch 36/120\n",
      "3988/3988 [==============================] - 44s 11ms/step - loss: 0.6056 - acc: 0.6632 - val_loss: 0.6745 - val_acc: 0.6182\n",
      "Epoch 37/120\n",
      "3988/3988 [==============================] - 42s 11ms/step - loss: 0.6114 - acc: 0.6645 - val_loss: 0.6558 - val_acc: 0.6273\n",
      "Epoch 38/120\n",
      "3988/3988 [==============================] - 42s 11ms/step - loss: 0.6034 - acc: 0.6625 - val_loss: 0.6572 - val_acc: 0.6293\n",
      "Epoch 39/120\n",
      "3988/3988 [==============================] - 42s 11ms/step - loss: 0.6087 - acc: 0.6575 - val_loss: 0.6637 - val_acc: 0.6212\n",
      "Epoch 40/120\n",
      "3988/3988 [==============================] - 43s 11ms/step - loss: 0.6040 - acc: 0.6570 - val_loss: 0.6571 - val_acc: 0.6343\n",
      "Epoch 41/120\n",
      "3988/3988 [==============================] - 42s 11ms/step - loss: 0.6000 - acc: 0.6665 - val_loss: 0.6602 - val_acc: 0.6293\n",
      "Epoch 42/120\n",
      "3988/3988 [==============================] - 43s 11ms/step - loss: 0.5943 - acc: 0.6740 - val_loss: 0.6838 - val_acc: 0.6042\n",
      "Epoch 43/120\n",
      "3988/3988 [==============================] - 43s 11ms/step - loss: 0.6048 - acc: 0.6625 - val_loss: 0.6625 - val_acc: 0.6132\n",
      "Epoch 44/120\n",
      "3988/3988 [==============================] - 42s 11ms/step - loss: 0.5950 - acc: 0.6680 - val_loss: 0.6653 - val_acc: 0.6182\n",
      "Epoch 45/120\n",
      "3988/3988 [==============================] - 42s 11ms/step - loss: 0.5899 - acc: 0.6760 - val_loss: 0.6670 - val_acc: 0.6222\n",
      "Epoch 46/120\n",
      "3988/3988 [==============================] - 42s 11ms/step - loss: 0.5948 - acc: 0.6753 - val_loss: 0.6635 - val_acc: 0.6363\n",
      "Epoch 47/120\n",
      "3988/3988 [==============================] - 42s 11ms/step - loss: 0.5924 - acc: 0.6805 - val_loss: 0.6701 - val_acc: 0.6263\n",
      "Epoch 48/120\n",
      "3988/3988 [==============================] - 42s 11ms/step - loss: 0.5849 - acc: 0.6765 - val_loss: 0.6719 - val_acc: 0.6232\n",
      "Epoch 49/120\n",
      "3988/3988 [==============================] - 42s 11ms/step - loss: 0.5897 - acc: 0.6788 - val_loss: 0.6738 - val_acc: 0.6232\n",
      "Epoch 50/120\n",
      "3988/3988 [==============================] - 42s 11ms/step - loss: 0.5894 - acc: 0.6810 - val_loss: 0.6694 - val_acc: 0.6263\n",
      "Epoch 51/120\n",
      "3988/3988 [==============================] - 43s 11ms/step - loss: 0.5879 - acc: 0.6785 - val_loss: 0.6721 - val_acc: 0.6273\n",
      "Epoch 52/120\n",
      "3988/3988 [==============================] - 42s 11ms/step - loss: 0.5837 - acc: 0.6823 - val_loss: 0.6684 - val_acc: 0.6273\n",
      "Epoch 53/120\n",
      "3988/3988 [==============================] - 42s 11ms/step - loss: 0.5787 - acc: 0.6871 - val_loss: 0.6761 - val_acc: 0.6273\n",
      "Epoch 54/120\n",
      "3988/3988 [==============================] - 43s 11ms/step - loss: 0.5714 - acc: 0.6951 - val_loss: 0.6878 - val_acc: 0.6313\n",
      "Epoch 55/120\n",
      "3988/3988 [==============================] - 42s 11ms/step - loss: 0.5773 - acc: 0.6830 - val_loss: 0.6774 - val_acc: 0.6132\n",
      "Epoch 56/120\n",
      "3988/3988 [==============================] - 43s 11ms/step - loss: 0.5756 - acc: 0.6878 - val_loss: 0.6815 - val_acc: 0.6232\n",
      "Epoch 57/120\n",
      "3988/3988 [==============================] - 43s 11ms/step - loss: 0.5708 - acc: 0.6893 - val_loss: 0.6781 - val_acc: 0.6152\n",
      "Epoch 58/120\n",
      "3988/3988 [==============================] - 42s 11ms/step - loss: 0.5762 - acc: 0.6906 - val_loss: 0.7064 - val_acc: 0.5982\n",
      "Epoch 59/120\n",
      "3988/3988 [==============================] - 43s 11ms/step - loss: 0.5685 - acc: 0.6883 - val_loss: 0.6971 - val_acc: 0.6172\n",
      "Epoch 60/120\n"
     ]
    },
    {
     "name": "stdout",
     "output_type": "stream",
     "text": [
      "3988/3988 [==============================] - 43s 11ms/step - loss: 0.5754 - acc: 0.6928 - val_loss: 0.6957 - val_acc: 0.6232\n",
      "Epoch 61/120\n",
      "3988/3988 [==============================] - 42s 11ms/step - loss: 0.5668 - acc: 0.7051 - val_loss: 0.7012 - val_acc: 0.6042\n",
      "Epoch 62/120\n",
      "3988/3988 [==============================] - 42s 11ms/step - loss: 0.5672 - acc: 0.6958 - val_loss: 0.7048 - val_acc: 0.6263\n",
      "Epoch 63/120\n",
      "3988/3988 [==============================] - 42s 11ms/step - loss: 0.5703 - acc: 0.6896 - val_loss: 0.6823 - val_acc: 0.6162\n",
      "Epoch 64/120\n",
      "3988/3988 [==============================] - 42s 10ms/step - loss: 0.5648 - acc: 0.6908 - val_loss: 0.6796 - val_acc: 0.6202\n",
      "Epoch 65/120\n",
      "3988/3988 [==============================] - 43s 11ms/step - loss: 0.5628 - acc: 0.7031 - val_loss: 0.6868 - val_acc: 0.6313\n",
      "Epoch 66/120\n",
      "3988/3988 [==============================] - 42s 10ms/step - loss: 0.5626 - acc: 0.6911 - val_loss: 0.7060 - val_acc: 0.6242\n",
      "Epoch 67/120\n",
      "3988/3988 [==============================] - 43s 11ms/step - loss: 0.5624 - acc: 0.6993 - val_loss: 0.7268 - val_acc: 0.6062\n",
      "Epoch 68/120\n",
      "3988/3988 [==============================] - 42s 10ms/step - loss: 0.5587 - acc: 0.7066 - val_loss: 0.7228 - val_acc: 0.6263\n",
      "Epoch 69/120\n",
      "3988/3988 [==============================] - 41s 10ms/step - loss: 0.5524 - acc: 0.7049 - val_loss: 0.6969 - val_acc: 0.6263\n",
      "Epoch 70/120\n",
      "3988/3988 [==============================] - 41s 10ms/step - loss: 0.5483 - acc: 0.7094 - val_loss: 0.7021 - val_acc: 0.6323\n",
      "Epoch 71/120\n",
      "3988/3988 [==============================] - 42s 10ms/step - loss: 0.5506 - acc: 0.7049 - val_loss: 0.7165 - val_acc: 0.6182\n",
      "Epoch 72/120\n",
      "3988/3988 [==============================] - 42s 10ms/step - loss: 0.5527 - acc: 0.7019 - val_loss: 0.7160 - val_acc: 0.6162\n",
      "Epoch 73/120\n",
      "3988/3988 [==============================] - 42s 10ms/step - loss: 0.5483 - acc: 0.7141 - val_loss: 0.7158 - val_acc: 0.6263\n",
      "Epoch 74/120\n",
      "3988/3988 [==============================] - 42s 10ms/step - loss: 0.5451 - acc: 0.7066 - val_loss: 0.7088 - val_acc: 0.6192\n",
      "Epoch 75/120\n",
      "3988/3988 [==============================] - 42s 10ms/step - loss: 0.5454 - acc: 0.7129 - val_loss: 0.7309 - val_acc: 0.6222\n",
      "Epoch 76/120\n",
      "3988/3988 [==============================] - 42s 11ms/step - loss: 0.5454 - acc: 0.7126 - val_loss: 0.7222 - val_acc: 0.6202\n",
      "Epoch 77/120\n",
      "3988/3988 [==============================] - 42s 10ms/step - loss: 0.5349 - acc: 0.7214 - val_loss: 0.7735 - val_acc: 0.6052\n",
      "Epoch 78/120\n",
      "3988/3988 [==============================] - 44s 11ms/step - loss: 0.5417 - acc: 0.7104 - val_loss: 0.7227 - val_acc: 0.6293\n",
      "Epoch 79/120\n",
      "3988/3988 [==============================] - 45s 11ms/step - loss: 0.5370 - acc: 0.7159 - val_loss: 0.7284 - val_acc: 0.6212\n",
      "Epoch 80/120\n",
      "3988/3988 [==============================] - 42s 11ms/step - loss: 0.5340 - acc: 0.7234 - val_loss: 0.7283 - val_acc: 0.6042\n",
      "Epoch 81/120\n",
      "3988/3988 [==============================] - 43s 11ms/step - loss: 0.5336 - acc: 0.7172 - val_loss: 0.7551 - val_acc: 0.6122\n",
      "Epoch 82/120\n",
      "3988/3988 [==============================] - 42s 11ms/step - loss: 0.5410 - acc: 0.7144 - val_loss: 0.7187 - val_acc: 0.6273\n",
      "Epoch 83/120\n",
      "3988/3988 [==============================] - 41s 10ms/step - loss: 0.5327 - acc: 0.7207 - val_loss: 0.7294 - val_acc: 0.6152\n",
      "Epoch 84/120\n",
      "3988/3988 [==============================] - 42s 10ms/step - loss: 0.5239 - acc: 0.7257 - val_loss: 0.7556 - val_acc: 0.6323\n",
      "Epoch 85/120\n",
      "3988/3988 [==============================] - 42s 11ms/step - loss: 0.5404 - acc: 0.7134 - val_loss: 0.7411 - val_acc: 0.6202\n",
      "Epoch 86/120\n",
      "3988/3988 [==============================] - 42s 10ms/step - loss: 0.5362 - acc: 0.7182 - val_loss: 0.7143 - val_acc: 0.6273\n",
      "Epoch 87/120\n",
      "3988/3988 [==============================] - 42s 10ms/step - loss: 0.5303 - acc: 0.7209 - val_loss: 0.7166 - val_acc: 0.6413\n",
      "Epoch 88/120\n",
      "3988/3988 [==============================] - 42s 11ms/step - loss: 0.5219 - acc: 0.7197 - val_loss: 0.7496 - val_acc: 0.6283\n",
      "Epoch 89/120\n",
      "3988/3988 [==============================] - 43s 11ms/step - loss: 0.5189 - acc: 0.7244 - val_loss: 0.7397 - val_acc: 0.6162\n",
      "Epoch 90/120\n",
      "3988/3988 [==============================] - 43s 11ms/step - loss: 0.5211 - acc: 0.7314 - val_loss: 0.7541 - val_acc: 0.6403\n",
      "Epoch 91/120\n",
      "3988/3988 [==============================] - 42s 10ms/step - loss: 0.5196 - acc: 0.7294 - val_loss: 0.7200 - val_acc: 0.6242\n",
      "Epoch 92/120\n",
      "3988/3988 [==============================] - 42s 10ms/step - loss: 0.5217 - acc: 0.7294 - val_loss: 0.7562 - val_acc: 0.6263\n",
      "Epoch 93/120\n",
      "3988/3988 [==============================] - 43s 11ms/step - loss: 0.5248 - acc: 0.7302 - val_loss: 0.7327 - val_acc: 0.6413\n",
      "Epoch 94/120\n",
      "3988/3988 [==============================] - 42s 11ms/step - loss: 0.5161 - acc: 0.7264 - val_loss: 0.7670 - val_acc: 0.6363\n",
      "Epoch 95/120\n",
      "3988/3988 [==============================] - 42s 10ms/step - loss: 0.5064 - acc: 0.7337 - val_loss: 0.7744 - val_acc: 0.6232\n",
      "Epoch 96/120\n",
      "3988/3988 [==============================] - 42s 10ms/step - loss: 0.5130 - acc: 0.7375 - val_loss: 0.7650 - val_acc: 0.6212\n",
      "Epoch 97/120\n",
      "3988/3988 [==============================] - 42s 10ms/step - loss: 0.5011 - acc: 0.7412 - val_loss: 0.7738 - val_acc: 0.6263\n",
      "Epoch 98/120\n",
      "3988/3988 [==============================] - 41s 10ms/step - loss: 0.5047 - acc: 0.7395 - val_loss: 0.7456 - val_acc: 0.6343\n",
      "Epoch 99/120\n",
      "3988/3988 [==============================] - 42s 10ms/step - loss: 0.5135 - acc: 0.7342 - val_loss: 0.7461 - val_acc: 0.6403\n",
      "Epoch 100/120\n",
      "3988/3988 [==============================] - 41s 10ms/step - loss: 0.5053 - acc: 0.7365 - val_loss: 0.7648 - val_acc: 0.6283\n",
      "Epoch 101/120\n",
      "3988/3988 [==============================] - 42s 10ms/step - loss: 0.5075 - acc: 0.7274 - val_loss: 0.7577 - val_acc: 0.6423\n",
      "Epoch 102/120\n",
      "3988/3988 [==============================] - 42s 11ms/step - loss: 0.5075 - acc: 0.7337 - val_loss: 0.7694 - val_acc: 0.6273\n",
      "Epoch 103/120\n",
      "3988/3988 [==============================] - 42s 10ms/step - loss: 0.5006 - acc: 0.7367 - val_loss: 0.8038 - val_acc: 0.6303\n",
      "Epoch 104/120\n",
      "3988/3988 [==============================] - 42s 10ms/step - loss: 0.5020 - acc: 0.7390 - val_loss: 0.7908 - val_acc: 0.6212\n",
      "Epoch 105/120\n",
      "3988/3988 [==============================] - 42s 11ms/step - loss: 0.5067 - acc: 0.7390 - val_loss: 0.7614 - val_acc: 0.6333\n",
      "Epoch 106/120\n",
      "3988/3988 [==============================] - 42s 10ms/step - loss: 0.5024 - acc: 0.7350 - val_loss: 0.7828 - val_acc: 0.6253\n",
      "Epoch 107/120\n",
      "3988/3988 [==============================] - 42s 10ms/step - loss: 0.5004 - acc: 0.7407 - val_loss: 0.7691 - val_acc: 0.6162\n",
      "Epoch 108/120\n",
      "3988/3988 [==============================] - 42s 10ms/step - loss: 0.4964 - acc: 0.7430 - val_loss: 0.8035 - val_acc: 0.6293\n",
      "Epoch 109/120\n",
      "3988/3988 [==============================] - 42s 10ms/step - loss: 0.4959 - acc: 0.7487 - val_loss: 0.7834 - val_acc: 0.6112\n",
      "Epoch 110/120\n",
      "3988/3988 [==============================] - 41s 10ms/step - loss: 0.4942 - acc: 0.7515 - val_loss: 0.7839 - val_acc: 0.6293\n",
      "Epoch 111/120\n",
      "3988/3988 [==============================] - 42s 11ms/step - loss: 0.4964 - acc: 0.7470 - val_loss: 0.7912 - val_acc: 0.6022\n",
      "Epoch 112/120\n",
      "3988/3988 [==============================] - 42s 11ms/step - loss: 0.4903 - acc: 0.7523 - val_loss: 0.7979 - val_acc: 0.6142\n",
      "Epoch 113/120\n",
      "3988/3988 [==============================] - 42s 10ms/step - loss: 0.4877 - acc: 0.7482 - val_loss: 0.7926 - val_acc: 0.6082\n",
      "Epoch 114/120\n",
      "3988/3988 [==============================] - 42s 11ms/step - loss: 0.4998 - acc: 0.7392 - val_loss: 0.7752 - val_acc: 0.6192\n",
      "Epoch 115/120\n",
      "3988/3988 [==============================] - 42s 10ms/step - loss: 0.4880 - acc: 0.7540 - val_loss: 0.8017 - val_acc: 0.6052\n",
      "Epoch 116/120\n",
      "3988/3988 [==============================] - 42s 10ms/step - loss: 0.4853 - acc: 0.7487 - val_loss: 0.7970 - val_acc: 0.6222\n",
      "Epoch 117/120\n",
      "3988/3988 [==============================] - 42s 10ms/step - loss: 0.4866 - acc: 0.7467 - val_loss: 0.8035 - val_acc: 0.6212\n",
      "Epoch 118/120\n",
      "3988/3988 [==============================] - 42s 10ms/step - loss: 0.4935 - acc: 0.7450 - val_loss: 0.8034 - val_acc: 0.6222\n",
      "Epoch 119/120\n"
     ]
    },
    {
     "name": "stdout",
     "output_type": "stream",
     "text": [
      "3988/3988 [==============================] - 41s 10ms/step - loss: 0.4853 - acc: 0.7440 - val_loss: 0.7933 - val_acc: 0.6152\n",
      "Epoch 120/120\n",
      "3988/3988 [==============================] - 43s 11ms/step - loss: 0.4862 - acc: 0.7525 - val_loss: 0.8118 - val_acc: 0.6212\n"
     ]
    },
    {
     "data": {
      "image/png": "[encoded data removed]",
      "text/plain": [
       "<Figure size 432x288 with 1 Axes>"
      ]
     },
     "metadata": {
      "needs_background": "light"
     },
     "output_type": "display_data"
    },
    {
     "data": {
      "image/png": "[encoded data removed]",
      "text/plain": [
       "<Figure size 432x288 with 1 Axes>"
      ]
     },
     "metadata": {
      "needs_background": "light"
     },
     "output_type": "display_data"
    }
   ],
   "source": [
    "history = LSTM_model.fit(x=X, y=Y, validation_split=0.2, epochs=120, batch_size=32)\n",
    "\n",
    "# 繪製訓練&驗證的acc\n",
    "plt.plot(history.history['acc'])\n",
    "plt.plot(history.history['val_acc'])\n",
    "plt.title('LSTM_Model accuracy')\n",
    "plt.ylabel('Accuracy')\n",
    "plt.xlabel('Epoch')\n",
    "plt.legend(['Train', 'Test'], loc='upper left')\n",
    "plt.show()\n",
    "\n",
    "# 繪製訓練&驗證的loss\n",
    "plt.plot(history.history['loss'])\n",
    "plt.plot(history.history['val_loss'])\n",
    "plt.title('LSTM_Model loss')\n",
    "plt.ylabel('Loss')\n",
    "plt.xlabel('Epoch')\n",
    "plt.legend(['Train', 'Test'], loc='upper left')\n",
    "plt.show()"
   ]
  },
  {
   "cell_type": "code",
   "execution_count": 37,
   "metadata": {},
   "outputs": [],
   "source": [
    "# 將訓練好的model儲存成json及h5檔\n",
    "import json\n",
    "LSTM_model_json = LSTM_model.to_json()\n",
    "with open(\"LSTM_model_trained.json\", \"w\") as json_file:\n",
    "    json.dump(LSTM_model_json, json_file)\n",
    "LSTM_model.save(\"LSTM_model_trained.h5\")"
   ]
  },
  {
   "cell_type": "code",
   "execution_count": 38,
   "metadata": {},
   "outputs": [],
   "source": [
    "X_test = text_to_index(test_df.text)\n",
    "X_test = pad_sequences(X_test, maxlen=PADDING_LENGTH)"
   ]
  },
  {
   "cell_type": "code",
   "execution_count": 39,
   "metadata": {},
   "outputs": [
    {
     "name": "stdout",
     "output_type": "stream",
     "text": [
      "Shape: (1247, 2)\n",
      "Sample: [0.8947998 0.5724863]\n"
     ]
    }
   ],
   "source": [
    "Y_RNNpreds = RNNmodel.predict(X_test)\n",
    "print(\"Shape:\", Y_RNNpreds.shape)\n",
    "print(\"Sample:\", Y_RNNpreds[0])"
   ]
  },
  {
   "cell_type": "code",
   "execution_count": 40,
   "metadata": {},
   "outputs": [
    {
     "name": "stdout",
     "output_type": "stream",
     "text": [
      "Shape: (1247, 2)\n",
      "Sample: [0.6552127  0.45874384]\n"
     ]
    }
   ],
   "source": [
    "Y_LSTMpreds = LSTM_model.predict(X_test)\n",
    "print(\"Shape:\", Y_LSTMpreds.shape)\n",
    "print(\"Sample:\", Y_LSTMpreds[0])"
   ]
  },
  {
   "cell_type": "code",
   "execution_count": 41,
   "metadata": {},
   "outputs": [
    {
     "name": "stdout",
     "output_type": "stream",
     "text": [
      "Shape: (1247,)\n",
      "Sample: 0\n",
      "ground truth: 1\n"
     ]
    }
   ],
   "source": [
    "#用 np.argmax() 取出每筆預測值中機率最高的 category作為我們的最終答案\n",
    "Y_RNNpreds_label = np.argmax(Y_RNNpreds, axis=1)\n",
    "print(\"Shape:\", Y_RNNpreds_label.shape)\n",
    "print(\"Sample:\", Y_RNNpreds_label[0])\n",
    "print(\"ground truth:\", test_df.label[0])"
   ]
  },
  {
   "cell_type": "code",
   "execution_count": 42,
   "metadata": {},
   "outputs": [
    {
     "name": "stdout",
     "output_type": "stream",
     "text": [
      "Shape: (1247,)\n",
      "Sample: 0\n",
      "ground truth: 1\n"
     ]
    }
   ],
   "source": [
    "Y_LSTMpreds_label = np.argmax(Y_LSTMpreds, axis=1)\n",
    "print(\"Shape:\", Y_LSTMpreds_label.shape)\n",
    "print(\"Sample:\", Y_LSTMpreds_label[0])\n",
    "print(\"ground truth:\", test_df.label[0])"
   ]
  }
 ],
 "metadata": {
  "kernelspec": {
   "display_name": "tf",
   "language": "python",
   "name": "tensorflow"
  },
  "language_info": {
   "codemirror_mode": {
    "name": "ipython",
    "version": 3
   },
   "file_extension": ".py",
   "mimetype": "text/x-python",
   "name": "python",
   "nbconvert_exporter": "python",
   "pygments_lexer": "ipython3",
   "version": "3.5.6"
  }
 },
 "nbformat": 4,
 "nbformat_minor": 4
}
